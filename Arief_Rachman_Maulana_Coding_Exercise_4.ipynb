{
  "nbformat": 4,
  "nbformat_minor": 5,
  "metadata": {
    "kernelspec": {
      "display_name": "Python 3",
      "language": "python",
      "name": "python3"
    },
    "language_info": {
      "codemirror_mode": {
        "name": "ipython",
        "version": 3
      },
      "file_extension": ".py",
      "mimetype": "text/x-python",
      "name": "python",
      "nbconvert_exporter": "python",
      "pygments_lexer": "ipython3",
      "version": "3.8.5"
    },
    "colab": {
      "name": "Arief Rachman Maulana_Coding Exercise 4.ipynb",
      "provenance": [],
      "collapsed_sections": [],
      "include_colab_link": true
    }
  },
  "cells": [
    {
      "cell_type": "markdown",
      "metadata": {
        "id": "view-in-github",
        "colab_type": "text"
      },
      "source": [
        "<a href=\"https://colab.research.google.com/github/AriefRM/R-Manipulation/blob/main/Arief_Rachman_Maulana_Coding_Exercise_4.ipynb\" target=\"_parent\"><img src=\"https://colab.research.google.com/assets/colab-badge.svg\" alt=\"Open In Colab\"/></a>"
      ]
    },
    {
      "cell_type": "markdown",
      "metadata": {
        "id": "OUBSdu4Pq6cK"
      },
      "source": [
        "## Welcome to Coding Exercise 4"
      ],
      "id": "OUBSdu4Pq6cK"
    },
    {
      "cell_type": "markdown",
      "metadata": {
        "id": "B1FJJcPfq6cZ"
      },
      "source": [
        "### Question 1. Points = 30\n",
        "### \"Shifting Members of an Array\""
      ],
      "id": "B1FJJcPfq6cZ"
    },
    {
      "cell_type": "markdown",
      "metadata": {
        "id": "FKBMK_QHq6cc"
      },
      "source": [
        "In this question, we want to shift our array to the right. How many times? Depends on the input. \n",
        "\n",
        "##### Example 1:\n",
        "array = [1,2,3,4,5]\n",
        "steps = 3\n",
        "\n",
        "We need to shift the array 3 steps to the right. \n",
        "- Original array = [1,2,3,4,5]\n",
        "- Step 1 = [5,1,2,3,4]\n",
        "- Step 2 = [4,5,1,2,3]\n",
        "- Step 3 = [3,4,5,1,2]\n",
        "\n",
        "Answer = [3,4,5,1,2]\n",
        "\n",
        "##### Example 2:\n",
        "array = [1,2,3]\n",
        "steps = 5\n",
        "\n",
        "We need to shift the array 5 steps to the right.\n",
        "\n",
        "- Original array = [1,2,3]\n",
        "- Step 1 = [3,1,2]\n",
        "- Step 2 = [2,3,1]\n",
        "- Step 3 = [1,2,3]\n",
        "- Step 4 = [3,1,2]\n",
        "- Step 5 = [2,3,1]\n",
        "\n",
        "Answer = [2,3,1]"
      ],
      "id": "FKBMK_QHq6cc"
    },
    {
      "cell_type": "code",
      "metadata": {
        "id": "0JNOeJovZd3f"
      },
      "source": [
        "import numpy as np "
      ],
      "id": "0JNOeJovZd3f",
      "execution_count": null,
      "outputs": []
    },
    {
      "cell_type": "code",
      "metadata": {
        "id": "0YRwkPlsq6cg"
      },
      "source": [
        "### Write your function here ###\n",
        "def shift(array, steps):\n",
        "  x = np.array(array)\n",
        "  y = np.roll(x,steps)\n",
        "\n",
        "  print (y)"
      ],
      "id": "0YRwkPlsq6cg",
      "execution_count": null,
      "outputs": []
    },
    {
      "cell_type": "code",
      "metadata": {
        "colab": {
          "base_uri": "https://localhost:8080/"
        },
        "id": "0uVYiELndiko",
        "outputId": "d022a1b1-b63b-42a1-f90e-b598411cd0b1"
      },
      "source": [
        "shift([1,2,3,4,5],3)"
      ],
      "id": "0uVYiELndiko",
      "execution_count": null,
      "outputs": [
        {
          "output_type": "stream",
          "name": "stdout",
          "text": [
            "[3 4 5 1 2]\n"
          ]
        }
      ]
    },
    {
      "cell_type": "code",
      "metadata": {
        "id": "b2CwZitpq6cl",
        "colab": {
          "base_uri": "https://localhost:8080/"
        },
        "outputId": "858bc601-f2c7-476c-8b7b-8deaf31af521"
      },
      "source": [
        "shift( [1,2,3],5)"
      ],
      "id": "b2CwZitpq6cl",
      "execution_count": null,
      "outputs": [
        {
          "output_type": "stream",
          "name": "stdout",
          "text": [
            "[2 3 1]\n"
          ]
        }
      ]
    },
    {
      "cell_type": "code",
      "metadata": {
        "colab": {
          "base_uri": "https://localhost:8080/"
        },
        "id": "FSd18SnJZ3Yz",
        "outputId": "26047982-2977-405d-bdc2-6cf1260efe29"
      },
      "source": [
        "## algoritma awal yang saya bikin\n",
        "x = [1,2,3,4,5]\n",
        "y = np.array(x)\n",
        "z = np.roll(y,3)\n",
        "print (z)"
      ],
      "id": "FSd18SnJZ3Yz",
      "execution_count": null,
      "outputs": [
        {
          "output_type": "stream",
          "name": "stdout",
          "text": [
            "[3 4 5 1 2]\n"
          ]
        }
      ]
    },
    {
      "cell_type": "markdown",
      "metadata": {
        "id": "uBuKf7KFq6cn"
      },
      "source": [
        "### Question 2. Points = 40\n",
        "### \"Segitiga Paskal\""
      ],
      "id": "uBuKf7KFq6cn"
    },
    {
      "cell_type": "markdown",
      "metadata": {
        "id": "NuRX2QuWq6co"
      },
      "source": [
        "We want to generate the n-th row of \"Pascal's Triangle\". Your function name should be ```pascal```. For those who does not know pascal triangle, watch this video: https://www.youtube.com/watch?v=1D3KsvfB8b0 and read https://www.mathsisfun.com/pascals-triangle.html \n",
        "\n",
        "##### Example 1:\n",
        "Input = 4,\n",
        "\n",
        "Answer = [1,4,6,4,1]\n",
        "\n",
        "##### Example 2:\n",
        "input = 3,\n",
        "\n",
        "Answer = [1,3,3,1]\n",
        "\n"
      ],
      "id": "NuRX2QuWq6co"
    },
    {
      "cell_type": "code",
      "metadata": {
        "id": "XDcOaZLpq6ct"
      },
      "source": [
        "### Write your solution here ###\n",
        "def pascal(n):\n",
        "  results = []\n",
        "  for i in range(0,n):\n",
        "    row = [1]\n",
        "    if results:\n",
        "      last_row = results[-1]\n",
        "      row.extend([sum(pair) for pair in zip(last_row, last_row[1:])])\n",
        "      row.append(1)\n",
        "      results.append(row)\n",
        "    return results"
      ],
      "id": "XDcOaZLpq6ct",
      "execution_count": null,
      "outputs": []
    },
    {
      "cell_type": "code",
      "metadata": {
        "colab": {
          "base_uri": "https://localhost:8080/"
        },
        "id": "3dAKRBn6WC_t",
        "outputId": "075219fd-6337-4e62-d82f-44b1d6634ec2"
      },
      "source": [
        "pascal(2)"
      ],
      "id": "3dAKRBn6WC_t",
      "execution_count": null,
      "outputs": [
        {
          "output_type": "execute_result",
          "data": {
            "text/plain": [
              "[[1], [1, 1]]"
            ]
          },
          "metadata": {},
          "execution_count": 27
        }
      ]
    },
    {
      "cell_type": "code",
      "metadata": {
        "id": "_MHAxH-UUhob"
      },
      "source": [
        "def pascal(n_rows):\n",
        "    results = []\n",
        "    for _ in range(n_rows):\n",
        "        row = [1]\n",
        "        if results:\n",
        "            last_row = results[-1]\n",
        "            row.extend([sum(pair) for pair in zip(last_row, last_row[1:])])\n",
        "            row.append(1)\n",
        "        results.append(row)\n",
        "    return results"
      ],
      "id": "_MHAxH-UUhob",
      "execution_count": 4,
      "outputs": []
    },
    {
      "cell_type": "code",
      "metadata": {
        "id": "R4tiwUyNq6cw",
        "colab": {
          "base_uri": "https://localhost:8080/"
        },
        "outputId": "daf7708b-9160-47c7-bfe1-ae8994cca606"
      },
      "source": [
        "pascal(4)\n",
        "print(pascal(4))"
      ],
      "id": "R4tiwUyNq6cw",
      "execution_count": 6,
      "outputs": [
        {
          "output_type": "stream",
          "name": "stdout",
          "text": [
            "[[1], [1, 1], [1, 2, 1], [1, 3, 3, 1]]\n"
          ]
        }
      ]
    },
    {
      "cell_type": "markdown",
      "metadata": {
        "id": "iR93SGExq6cz"
      },
      "source": [
        "### Question 3. Points = 30"
      ],
      "id": "iR93SGExq6cz"
    },
    {
      "cell_type": "markdown",
      "metadata": {
        "id": "NbOzTcwJq6c1"
      },
      "source": [
        "### \"Maximum Distance Between 3 Points\""
      ],
      "id": "NbOzTcwJq6c1"
    },
    {
      "cell_type": "markdown",
      "metadata": {
        "id": "UQpVublsq6c2"
      },
      "source": [
        "Given three coordinates, determine which two points are the furthest apart, and output the length of their distance. Your function should be called ```max_distance```. First coordinate is called 'A', second coordinate is called 'B', third coordinate is called 'C'. \n",
        "\n",
        "\n",
        "##### Example:\n",
        "A = [1,2],\n",
        "B = [10,-10],\n",
        "C = [-3, 5]\n",
        "\n",
        "- The distance between AB = 15\n",
        "- The distance between BC = 19.8\n",
        "- The distance between AC = 8.06\n",
        "\n",
        "Answer = \"The point A, B are furthest apart with distance 19.8\"\n"
      ],
      "id": "UQpVublsq6c2"
    },
    {
      "cell_type": "code",
      "metadata": {
        "id": "CItVsaUfq6c5"
      },
      "source": [
        "### Write your solution here ###\n",
        "def max_distance(A,B,C):\n",
        "  distAB = ((A[0]-B[0])**2+(A[1]-B[1])**2)**.5\n",
        "  distBC = ((B[0]-C[0])**2+(B[1]-C[1])**2)**.5\n",
        "  distAC = ((A[0]-C[0])**2+(A[1]-C[1])**2)**.5\n",
        "\n",
        "  ABC = (distAB,distBC,distAC)\n",
        "  max_value = max(ABC)\n",
        "\n",
        "  print ('The Distance between AB :', distAB)\n",
        "  print ('The Distance between BC :', distBC)\n",
        "  print ('The Distance between AC :', distAC)\n",
        "\n",
        "  if (max_value == distAB):\n",
        "    print ('The point A, B are furthest apart with distance',max_value)\n",
        "  elif (max_value == distBC):\n",
        "    print ('The point B, C are furthest apart with distance', max_value)\n",
        "  elif (max_value == distAC):\n",
        "    print ('The point A, C are furthest apart with distance', max_value)\n",
        "\n",
        "\n",
        "\n",
        "\n"
      ],
      "id": "CItVsaUfq6c5",
      "execution_count": 2,
      "outputs": []
    },
    {
      "cell_type": "code",
      "metadata": {
        "id": "OJ0g2nvLq6c6",
        "colab": {
          "base_uri": "https://localhost:8080/"
        },
        "outputId": "68686eaf-05de-4263-b0e9-235cbe0a343a"
      },
      "source": [
        "max_distance([1,2],[10,-10],[-3, 5]) # Case jawaban dari pertanyaan"
      ],
      "id": "OJ0g2nvLq6c6",
      "execution_count": 15,
      "outputs": [
        {
          "output_type": "stream",
          "name": "stdout",
          "text": [
            "The Distance between AB : 15.0\n",
            "The Distance between BC : 19.849433241279208\n",
            "The Distance between AC : 5.0\n",
            "The point B, C are furthest apart with distance 19.849433241279208\n"
          ]
        }
      ]
    },
    {
      "cell_type": "code",
      "metadata": {
        "colab": {
          "base_uri": "https://localhost:8080/"
        },
        "id": "xEQEyM21dShF",
        "outputId": "a7cb462c-0b7a-43df-af29-c7604abb9dae"
      },
      "source": [
        "max_distance([3,8],[-15,-6],[4, -7]) # mencoba dengan data koordinat yang lain"
      ],
      "id": "xEQEyM21dShF",
      "execution_count": 3,
      "outputs": [
        {
          "output_type": "stream",
          "name": "stdout",
          "text": [
            "The Distance between AB : 22.80350850198276\n",
            "The Distance between BC : 19.026297590440446\n",
            "The Distance between AC : 15.033296378372908\n",
            "The point A, B are furthest apart with distance 22.80350850198276\n"
          ]
        }
      ]
    },
    {
      "cell_type": "code",
      "metadata": {
        "id": "VlkR3pmtq6c8"
      },
      "source": [
        "## Percobaan Algoritma yang saya buat\n",
        "A = [1,2] \n",
        "B = [10,-10]\n",
        "C = [-3, 5]"
      ],
      "id": "VlkR3pmtq6c8",
      "execution_count": null,
      "outputs": []
    },
    {
      "cell_type": "code",
      "metadata": {
        "id": "VzqN5jxXq6c8",
        "colab": {
          "base_uri": "https://localhost:8080/"
        },
        "outputId": "9d1aafd6-51c7-477b-83b8-8dac2df20696"
      },
      "source": [
        "dist = ((A[0]-B[0])**2+(A[1]-B[1])**2)**.5\n",
        "print (dist)"
      ],
      "id": "VzqN5jxXq6c8",
      "execution_count": null,
      "outputs": [
        {
          "output_type": "stream",
          "name": "stdout",
          "text": [
            "15.0\n"
          ]
        }
      ]
    },
    {
      "cell_type": "code",
      "metadata": {
        "id": "M8X9G28Mq6c9",
        "colab": {
          "base_uri": "https://localhost:8080/"
        },
        "outputId": "eaa13e0d-44f1-47a5-8873-d744c9cec4ad"
      },
      "source": [
        "a = 1\n",
        "b = 5\n",
        "c = 3\n",
        "d = (a,b,c)\n",
        "max(d)"
      ],
      "id": "M8X9G28Mq6c9",
      "execution_count": 2,
      "outputs": [
        {
          "output_type": "execute_result",
          "data": {
            "text/plain": [
              "5"
            ]
          },
          "metadata": {},
          "execution_count": 2
        }
      ]
    },
    {
      "cell_type": "code",
      "metadata": {
        "id": "BbepI0Kaq6c-",
        "colab": {
          "base_uri": "https://localhost:8080/"
        },
        "outputId": "cd43c507-af41-4de2-fc17-d921196d62b1"
      },
      "source": [
        "if (d==b):\n",
        "  print ('Okeh')\n",
        "else :\n",
        "  print ('yee')"
      ],
      "id": "BbepI0Kaq6c-",
      "execution_count": 9,
      "outputs": [
        {
          "output_type": "stream",
          "name": "stdout",
          "text": [
            "yee\n"
          ]
        }
      ]
    }
  ]
}